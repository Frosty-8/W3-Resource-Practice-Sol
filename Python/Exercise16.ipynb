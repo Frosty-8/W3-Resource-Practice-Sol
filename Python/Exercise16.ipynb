{
 "cells": [
  {
   "cell_type": "markdown",
   "id": "8ac05dbb",
   "metadata": {},
   "source": [
    "Create a 5x5 list of lists with row values ranging from 0 to 4."
   ]
  },
  {
   "cell_type": "code",
   "execution_count": 1,
   "id": "78aa6f25",
   "metadata": {},
   "outputs": [
    {
     "name": "stdout",
     "output_type": "stream",
     "text": [
      "[[0, 1, 2, 3, 4], [0, 1, 2, 3, 4], [0, 1, 2, 3, 4], [0, 1, 2, 3, 4], [0, 1, 2, 3, 4]]\n"
     ]
    }
   ],
   "source": [
    "matrix = [[i for i in range(5)] for _ in range(5)]\n",
    "print(matrix)"
   ]
  }
 ],
 "metadata": {
  "kernelspec": {
   "display_name": "Python 3",
   "language": "python",
   "name": "python3"
  },
  "language_info": {
   "codemirror_mode": {
    "name": "ipython",
    "version": 3
   },
   "file_extension": ".py",
   "mimetype": "text/x-python",
   "name": "python",
   "nbconvert_exporter": "python",
   "pygments_lexer": "ipython3",
   "version": "3.12.6"
  }
 },
 "nbformat": 4,
 "nbformat_minor": 5
}
