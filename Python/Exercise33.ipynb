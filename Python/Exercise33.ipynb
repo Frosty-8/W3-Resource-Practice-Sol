{
 "cells": [
  {
   "cell_type": "markdown",
   "id": "8ac05dbb",
   "metadata": {},
   "source": [
    "Calculate the mean of each column in a 2D list."
   ]
  },
  {
   "cell_type": "code",
   "execution_count": 1,
   "id": "78aa6f25",
   "metadata": {},
   "outputs": [
    {
     "name": "stdout",
     "output_type": "stream",
     "text": [
      "[0.49877324379076626, 0.5570045287030321, 0.4667593702214138]\n"
     ]
    }
   ],
   "source": [
    "import random \n",
    "\n",
    "matrix = [[random.random() for _ in range(3)] for _ in range(4)]\n",
    "\n",
    "columns = [sum(row[i] for row in matrix) /  len(matrix) for i in range(3) ]\n",
    "\n",
    "print(columns)"
   ]
  }
 ],
 "metadata": {
  "kernelspec": {
   "display_name": "Python 3",
   "language": "python",
   "name": "python3"
  },
  "language_info": {
   "codemirror_mode": {
    "name": "ipython",
    "version": 3
   },
   "file_extension": ".py",
   "mimetype": "text/x-python",
   "name": "python",
   "nbconvert_exporter": "python",
   "pygments_lexer": "ipython3",
   "version": "3.12.6"
  }
 },
 "nbformat": 4,
 "nbformat_minor": 5
}
