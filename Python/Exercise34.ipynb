{
 "cells": [
  {
   "cell_type": "markdown",
   "id": "8ac05dbb",
   "metadata": {},
   "source": [
    "Normalize the values in each column of a 2D list."
   ]
  },
  {
   "cell_type": "code",
   "execution_count": 2,
   "id": "78aa6f25",
   "metadata": {},
   "outputs": [
    {
     "name": "stdout",
     "output_type": "stream",
     "text": [
      "[[0.549739237746666, 0.06306948795716744, 0.0, 0.02756708263659077], [0.0, 1.0, 0.2566431333874787, 0.0], [1.0, 0.0, 1.0, 1.0]]\n"
     ]
    }
   ],
   "source": [
    "import random \n",
    "\n",
    "matrix = [[random.random() for _ in range(3)] for _ in range(4)]\n",
    "\n",
    "normalized_data = [[(x - min(col)) / (max(col) - min(col)) for x in col] for col in matrix]\n",
    "\n",
    "normalized_data = list(map(list,zip(*normalized_data)))\n",
    "\n",
    "print(normalized_data)"
   ]
  },
  {
   "cell_type": "markdown",
   "id": "87e1549c",
   "metadata": {},
   "source": [
    "The expression list(map(list, zip(*some_matrix))) is a common and concise way in Python to transpose a 2D list (matrix).\n",
    "\n",
    "If your some_matrix has dimensions R x C (R rows and C columns), then list(map(list, zip(*some_matrix))) will convert it into a new matrix with dimensions C x R (C rows and R columns).\n",
    "\n",
    "So, if you have a 4x3 matrix, using zip(*) will indeed convert it to a 3x4 matrix."
   ]
  },
  {
   "cell_type": "markdown",
   "id": "355b0281",
   "metadata": {},
   "source": []
  }
 ],
 "metadata": {
  "kernelspec": {
   "display_name": "Python 3",
   "language": "python",
   "name": "python3"
  },
  "language_info": {
   "codemirror_mode": {
    "name": "ipython",
    "version": 3
   },
   "file_extension": ".py",
   "mimetype": "text/x-python",
   "name": "python",
   "nbconvert_exporter": "python",
   "pygments_lexer": "ipython3",
   "version": "3.12.6"
  }
 },
 "nbformat": 4,
 "nbformat_minor": 5
}
