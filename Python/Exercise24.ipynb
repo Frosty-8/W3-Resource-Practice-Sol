{
 "cells": [
  {
   "cell_type": "markdown",
   "id": "8ac05dbb",
   "metadata": {},
   "source": [
    "Replace all values in a list with the mean of the list."
   ]
  },
  {
   "cell_type": "code",
   "execution_count": 1,
   "id": "78aa6f25",
   "metadata": {},
   "outputs": [
    {
     "name": "stdout",
     "output_type": "stream",
     "text": [
      "[32.0, 32.0, 32.0, 32.0, 32.0]\n"
     ]
    }
   ],
   "source": [
    "lst = [10,20,30,40,60]\n",
    "\n",
    "mean_val = sum(lst) / len(lst)\n",
    "\n",
    "lst = [mean_val] * len(lst) \n",
    "\n",
    "print(lst)"
   ]
  }
 ],
 "metadata": {
  "kernelspec": {
   "display_name": "Python 3",
   "language": "python",
   "name": "python3"
  },
  "language_info": {
   "codemirror_mode": {
    "name": "ipython",
    "version": 3
   },
   "file_extension": ".py",
   "mimetype": "text/x-python",
   "name": "python",
   "nbconvert_exporter": "python",
   "pygments_lexer": "ipython3",
   "version": "3.12.6"
  }
 },
 "nbformat": 4,
 "nbformat_minor": 5
}
