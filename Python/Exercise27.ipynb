{
 "cells": [
  {
   "cell_type": "markdown",
   "id": "8ac05dbb",
   "metadata": {},
   "source": [
    "Create a 2D list with 1 on the border and 0 inside."
   ]
  },
  {
   "cell_type": "code",
   "execution_count": 1,
   "id": "78aa6f25",
   "metadata": {},
   "outputs": [
    {
     "name": "stdout",
     "output_type": "stream",
     "text": [
      "[1, 2, 3, 4]\n",
      "{1: 2, 2: 3, 3: 2, 4: 2}\n"
     ]
    }
   ],
   "source": [
    "lst = [1,2,3,2,3,4,2,4,1]\n",
    "\n",
    "unique_values = list(set(lst))\n",
    "\n",
    "count_val = { x: lst.count(x) for x in unique_values }\n",
    "\n",
    "print(unique_values)\n",
    "print(count_val)"
   ]
  }
 ],
 "metadata": {
  "kernelspec": {
   "display_name": "Python 3",
   "language": "python",
   "name": "python3"
  },
  "language_info": {
   "codemirror_mode": {
    "name": "ipython",
    "version": 3
   },
   "file_extension": ".py",
   "mimetype": "text/x-python",
   "name": "python",
   "nbconvert_exporter": "python",
   "pygments_lexer": "ipython3",
   "version": "3.12.6"
  }
 },
 "nbformat": 4,
 "nbformat_minor": 5
}
