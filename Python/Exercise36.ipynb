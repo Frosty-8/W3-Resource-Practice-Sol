{
 "cells": [
  {
   "cell_type": "markdown",
   "id": "8ac05dbb",
   "metadata": {},
   "source": [
    "Create a 2D list with random values and sort each row."
   ]
  },
  {
   "cell_type": "code",
   "execution_count": 1,
   "id": "78aa6f25",
   "metadata": {},
   "outputs": [
    {
     "name": "stdout",
     "output_type": "stream",
     "text": [
      "[[0.018108022478680597, 0.3691456790237587, 0.8181935901909675], [0.18418047067209298, 0.3861058913246551, 0.6111708190523759], [0.33958077705045653, 0.40973007501478387, 0.8353782402257324]]\n"
     ]
    }
   ],
   "source": [
    "import random \n",
    "\n",
    "matrix = [[random.random() for _ in range(3)] for _ in range(3)]\n",
    "\n",
    "new_matrix = [sorted(row) for row in matrix] \n",
    "\n",
    "print(new_matrix)"
   ]
  }
 ],
 "metadata": {
  "kernelspec": {
   "display_name": "Python 3",
   "language": "python",
   "name": "python3"
  },
  "language_info": {
   "codemirror_mode": {
    "name": "ipython",
    "version": 3
   },
   "file_extension": ".py",
   "mimetype": "text/x-python",
   "name": "python",
   "nbconvert_exporter": "python",
   "pygments_lexer": "ipython3",
   "version": "3.12.6"
  }
 },
 "nbformat": 4,
 "nbformat_minor": 5
}
