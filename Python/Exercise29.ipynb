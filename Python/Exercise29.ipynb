{
 "cells": [
  {
   "cell_type": "markdown",
   "id": "8ac05dbb",
   "metadata": {},
   "source": [
    "Calculate the exponential of all elements in a list."
   ]
  },
  {
   "cell_type": "code",
   "execution_count": 1,
   "id": "78aa6f25",
   "metadata": {},
   "outputs": [
    {
     "name": "stdout",
     "output_type": "stream",
     "text": [
      "[2.718281828459045, 7.38905609893065, 20.085536923187668, 54.598150033144236, 148.4131591025766]\n"
     ]
    }
   ],
   "source": [
    "import math\n",
    "\n",
    "lst = [1,2,3,4,5]\n",
    "\n",
    "exponential_lst = [math.exp(x) for x in lst]\n",
    "\n",
    "print(exponential_lst)"
   ]
  }
 ],
 "metadata": {
  "kernelspec": {
   "display_name": "Python 3",
   "language": "python",
   "name": "python3"
  },
  "language_info": {
   "codemirror_mode": {
    "name": "ipython",
    "version": 3
   },
   "file_extension": ".py",
   "mimetype": "text/x-python",
   "name": "python",
   "nbconvert_exporter": "python",
   "pygments_lexer": "ipython3",
   "version": "3.12.6"
  }
 },
 "nbformat": 4,
 "nbformat_minor": 5
}
