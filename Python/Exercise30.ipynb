{
 "cells": [
  {
   "cell_type": "markdown",
   "id": "8ac05dbb",
   "metadata": {},
   "source": [
    "Swap two rows in a 2D list"
   ]
  },
  {
   "cell_type": "code",
   "execution_count": 3,
   "id": "78aa6f25",
   "metadata": {},
   "outputs": [
    {
     "name": "stdout",
     "output_type": "stream",
     "text": [
      "1st :  [[0.5733531401211353, 0.9995471129352202, 0.5274217755337355, 0.06288091780883587], [0.8679376552433362, 0.6109900008639263, 0.7920502297777012, 0.4476870378816802], [0.6622277268734656, 0.5414846407456348, 0.008253817882585501, 0.4428540781347585]]\n",
      "swap :  [[0.8679376552433362, 0.6109900008639263, 0.7920502297777012, 0.4476870378816802], [0.5733531401211353, 0.9995471129352202, 0.5274217755337355, 0.06288091780883587], [0.6622277268734656, 0.5414846407456348, 0.008253817882585501, 0.4428540781347585]]\n"
     ]
    }
   ],
   "source": [
    "import random\n",
    "\n",
    "matrix = [[random.random() for _ in range(4)]for _ in range(3)]\n",
    "\n",
    "print('1st : ',matrix)\n",
    "\n",
    "matrix[0] , matrix[1] = matrix[1], matrix[0]\n",
    "\n",
    "print('swap : ',matrix)"
   ]
  }
 ],
 "metadata": {
  "kernelspec": {
   "display_name": "Python 3",
   "language": "python",
   "name": "python3"
  },
  "language_info": {
   "codemirror_mode": {
    "name": "ipython",
    "version": 3
   },
   "file_extension": ".py",
   "mimetype": "text/x-python",
   "name": "python",
   "nbconvert_exporter": "python",
   "pygments_lexer": "ipython3",
   "version": "3.12.6"
  }
 },
 "nbformat": 4,
 "nbformat_minor": 5
}
