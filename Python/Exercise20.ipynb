{
 "cells": [
  {
   "cell_type": "markdown",
   "id": "8ac05dbb",
   "metadata": {},
   "source": [
    "Count the number of elements in a list within a specific range."
   ]
  },
  {
   "cell_type": "code",
   "execution_count": 1,
   "id": "78aa6f25",
   "metadata": {},
   "outputs": [
    {
     "name": "stdout",
     "output_type": "stream",
     "text": [
      "5\n"
     ]
    }
   ],
   "source": [
    "lst = [2,3,4,6,12,56]\n",
    "total_count = sum( 2 <= x <= 12 for x in lst)\n",
    "print(total_count)"
   ]
  }
 ],
 "metadata": {
  "kernelspec": {
   "display_name": "Python 3",
   "language": "python",
   "name": "python3"
  },
  "language_info": {
   "codemirror_mode": {
    "name": "ipython",
    "version": 3
   },
   "file_extension": ".py",
   "mimetype": "text/x-python",
   "name": "python",
   "nbconvert_exporter": "python",
   "pygments_lexer": "ipython3",
   "version": "3.12.6"
  }
 },
 "nbformat": 4,
 "nbformat_minor": 5
}
