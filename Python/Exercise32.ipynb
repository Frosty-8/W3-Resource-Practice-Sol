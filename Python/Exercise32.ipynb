{
 "cells": [
  {
   "cell_type": "markdown",
   "id": "8ac05dbb",
   "metadata": {},
   "source": [
    "Find the indices of the top N maximum values in a list."
   ]
  },
  {
   "cell_type": "code",
   "execution_count": 2,
   "id": "78aa6f25",
   "metadata": {},
   "outputs": [
    {
     "name": "stdout",
     "output_type": "stream",
     "text": [
      "[5, 4]\n"
     ]
    }
   ],
   "source": [
    "lst = [1,2,3,4,5,6]\n",
    "\n",
    "N = 2 \n",
    "\n",
    "indices_lst = sorted(range(len(lst)), key = lambda i: lst[i], reverse=True)[:N]\n",
    "\n",
    "print(indices_lst)"
   ]
  }
 ],
 "metadata": {
  "kernelspec": {
   "display_name": "Python 3",
   "language": "python",
   "name": "python3"
  },
  "language_info": {
   "codemirror_mode": {
    "name": "ipython",
    "version": 3
   },
   "file_extension": ".py",
   "mimetype": "text/x-python",
   "name": "python",
   "nbconvert_exporter": "python",
   "pygments_lexer": "ipython3",
   "version": "3.12.6"
  }
 },
 "nbformat": 4,
 "nbformat_minor": 5
}
