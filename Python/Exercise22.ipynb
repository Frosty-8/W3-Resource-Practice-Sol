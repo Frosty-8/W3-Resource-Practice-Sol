{
 "cells": [
  {
   "cell_type": "markdown",
   "id": "8ac05dbb",
   "metadata": {},
   "source": [
    "Create a random 4x4 list of lists and extract the diagonal elements."
   ]
  },
  {
   "cell_type": "code",
   "execution_count": 1,
   "id": "78aa6f25",
   "metadata": {},
   "outputs": [
    {
     "name": "stdout",
     "output_type": "stream",
     "text": [
      "[0.348725075353046, 0.7164518740985697, 0.6554296725821623, 0.34874045177956636]\n"
     ]
    }
   ],
   "source": [
    "import random\n",
    "\n",
    "matrix = [[random.random() for _ in range(4)] for _ in range(4)]\n",
    "\n",
    "diagonal_elements = [matrix[i][i] for i in range(4)]\n",
    "\n",
    "print(diagonal_elements)"
   ]
  }
 ],
 "metadata": {
  "kernelspec": {
   "display_name": "Python 3",
   "language": "python",
   "name": "python3"
  },
  "language_info": {
   "codemirror_mode": {
    "name": "ipython",
    "version": 3
   },
   "file_extension": ".py",
   "mimetype": "text/x-python",
   "name": "python",
   "nbconvert_exporter": "python",
   "pygments_lexer": "ipython3",
   "version": "3.12.6"
  }
 },
 "nbformat": 4,
 "nbformat_minor": 5
}
