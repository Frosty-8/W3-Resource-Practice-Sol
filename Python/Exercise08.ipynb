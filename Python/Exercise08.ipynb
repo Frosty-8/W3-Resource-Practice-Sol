{
 "cells": [
  {
   "cell_type": "markdown",
   "id": "8ac05dbb",
   "metadata": {},
   "source": [
    "Create a 3x3 list of lists with random values and normalize it."
   ]
  },
  {
   "cell_type": "code",
   "execution_count": 3,
   "id": "78aa6f25",
   "metadata": {},
   "outputs": [
    {
     "name": "stdout",
     "output_type": "stream",
     "text": [
      "[[-0.6584554400383225, 1.7556851862627423, -0.38464126418592753], [-1.397626987222952, -0.11625392148920993, 0.7854261932031809], [0.7908784671678926, -1.34314094575607, 0.5681287120586646]]\n"
     ]
    }
   ],
   "source": [
    "import random \n",
    "\n",
    "matrix = [[random.random() for _ in range(3)]for _ in range(3)]\n",
    "\n",
    "mean = sum(sum(row) for row in matrix) / 9\n",
    "\n",
    "std = ( sum((x - mean)**2 for row in matrix for x in row) / 9 ) ** 0.5\n",
    "\n",
    "normalize_matrix = [[(x - mean) / std for x in row] for row in matrix ]\n",
    "\n",
    "print(normalize_matrix)"
   ]
  }
 ],
 "metadata": {
  "kernelspec": {
   "display_name": "Python 3",
   "language": "python",
   "name": "python3"
  },
  "language_info": {
   "codemirror_mode": {
    "name": "ipython",
    "version": 3
   },
   "file_extension": ".py",
   "mimetype": "text/x-python",
   "name": "python",
   "nbconvert_exporter": "python",
   "pygments_lexer": "ipython3",
   "version": "3.12.6"
  }
 },
 "nbformat": 4,
 "nbformat_minor": 5
}
